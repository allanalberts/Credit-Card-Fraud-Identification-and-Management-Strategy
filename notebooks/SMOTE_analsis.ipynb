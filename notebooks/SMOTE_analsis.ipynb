{
 "cells": [
  {
   "cell_type": "markdown",
   "metadata": {},
   "source": [
    "# SMOTE Analysis"
   ]
  },
  {
   "cell_type": "code",
   "execution_count": 21,
   "metadata": {},
   "outputs": [],
   "source": [
    "import pandas as pd\n",
    "import numpy as np\n",
    "import matplotlib.pyplot as plt\n",
    "\n",
    "from sklearn.preprocessing import StandardScaler\n",
    "from sklearn.model_selection import StratifiedKFold\n",
    "from imblearn.over_sampling import SMOTE\n",
    "from imblearn.pipeline import Pipeline as imb_Pipeline\n",
    "from sklearn.model_selection import GridSearchCV\n",
    "import time\n",
    "\n",
    "import sys\n",
    "sys.path.insert(0, '../src')\n",
    "import helpers as h\n",
    "\n",
    "SEED = 123\n",
    "holdoutseed = 4\n",
    "CPU = -1\n",
    "FOLDS = 5"
   ]
  },
  {
   "cell_type": "code",
   "execution_count": 43,
   "metadata": {},
   "outputs": [],
   "source": [
    "def smote_params(clf, classifiers, X_train, y_train, X_test, y_test, RatioList, ScoringMethod, TimeIt=True):\n",
    "    \"\"\"\n",
    "    Returns the classifiers dictionary updated with 4 enties related to \n",
    "        SMOTE optimum parameter analysis. \n",
    "        SMOTE_grid - DataFrame containing smote analysis results for plotting\n",
    "        SMOTE_bestpart - \n",
    "        SMOTE_CVtrain_score - best search fit cross validate train score\n",
    "        SMOTE_test_score - best search fit test score\n",
    "    \n",
    "    Parameters\n",
    "    ----------\n",
    "    clf - string, classifier to be analyzed\n",
    "    classifiers - dictionary\n",
    "    X_train, X_test - dataframes\n",
    "    y_train, y_test - dataSeries\n",
    "    RatioList - list, containing minority oversampling ratio values to test\n",
    "    ScoringMethod - string, metric to be optimized\n",
    "    TimeIt - boolean, flag for time processing time\n",
    "    \n",
    "    Returns\n",
    "    -------\n",
    "    Classifiers: dictionay\n",
    "    \"\"\"\n",
    "    start_time = time.time()\n",
    "    steps = [('scaler', StandardScaler()),\n",
    "             ('SMOTE', SMOTE(random_state=SEED, n_jobs=CPU)),\n",
    "             ('Classifier', classifiers[clf]['model'])]        \n",
    "    pipeline = imb_Pipeline(steps)\n",
    "    parameters = {'SMOTE__sampling_strategy': RatioList}\n",
    "    kf = StratifiedKFold(n_splits=5, shuffle=True)\n",
    "    \n",
    "    searcher = GridSearchCV(pipeline, param_grid=parameters, cv=kf, scoring=ScoringMethod)\n",
    "    searcher.fit(X_train, y_train)\n",
    "    \n",
    "    df_gridCV = pd.DataFrame({'score': searcher.cv_results_['mean_test_score'],\n",
    "                              'ResampleRatio': RatioList })\n",
    "    \n",
    "    classifiers[clf]['SMOTE_grid'] = df_gridCV\n",
    "    classifiers[clf]['SMOTE_bestparm'] = searcher.best_params_['SMOTE__sampling_strategy']\n",
    "    classifiers[clf]['SMOTE_CVtrain_score'] = searcher.best_score_\n",
    "    classifiers[clf]['SMOTE_test_score'] = searcher.score(X_test, y_test)\n",
    "    if TimeIt:\n",
    "        t = time.time() - start_time\n",
    "        print(f\"{t:.0f} seconds execution time for {clf} classifier\")\n",
    " \n",
    "    return classifiers"
   ]
  },
  {
   "cell_type": "code",
   "execution_count": 76,
   "metadata": {},
   "outputs": [],
   "source": [
    "def print_smote_parms(clf_lst, classifiers):\n",
    "    for clf in clf_lst:\n",
    "        print(classifiers[clf]['clf_desc'])\n",
    "        print(f\"Best CV params {classifiers[clf]['SMOTE_bestparm']}\")\n",
    "        print(f\"Best CV value using training dataset: {classifiers[clf]['SMOTE_CVtrain_score']:.3f}\")\n",
    "        print(f\"Best grid search fit using testing dataset: {classifiers[clf]['SMOTE_test_score']:.3f}\\n\")   "
   ]
  },
  {
   "cell_type": "code",
   "execution_count": 67,
   "metadata": {},
   "outputs": [],
   "source": [
    "def plot_smote_parms(ax, clf, classifiers):\n",
    "    df_gridCV = classifiers[clf]['SMOTE_grid'] \n",
    "    df_gridCV.plot(ax=ax, x='ResampleRatio', c=classifiers[clf]['c']);\n",
    "    ax.set_title(f\"{classifiers[clf]['clf_desc']}\\nSMOTE Recall Scoring\")\n",
    "    ax.set_ylabel('Recall Score')"
   ]
  },
  {
   "cell_type": "code",
   "execution_count": 45,
   "metadata": {},
   "outputs": [
    {
     "name": "stdout",
     "output_type": "stream",
     "text": [
      "Positive Class frequency: 0.00173\n",
      "LogisticRegression\n",
      "169 seconds execution time for LR classifier\n",
      "Best CV params 0.2\n",
      "Best CV value using training dataset: 0.867\n",
      "Best grid search fit using testing dataset: 0.873\n",
      "\n",
      "RandomForest\n",
      "1234 seconds execution time for RF classifier\n",
      "Best CV params 0.04\n",
      "Best CV value using training dataset: 0.835\n",
      "Best grid search fit using testing dataset: 0.797\n",
      "\n",
      "XGBoost\n",
      "3615 seconds execution time for XGB classifier\n",
      "Best CV params 0.15\n",
      "Best CV value using training dataset: 0.832\n",
      "Best grid search fit using testing dataset: 0.835\n",
      "\n"
     ]
    },
    {
     "ename": "NameError",
     "evalue": "name 'plot_smote_parms' is not defined",
     "output_type": "error",
     "traceback": [
      "\u001b[0;31m---------------------------------------------------------------------------\u001b[0m",
      "\u001b[0;31mNameError\u001b[0m                                 Traceback (most recent call last)",
      "\u001b[0;32m<ipython-input-45-e1d77056d7a8>\u001b[0m in \u001b[0;36m<module>\u001b[0;34m\u001b[0m\n\u001b[1;32m     17\u001b[0m \u001b[0mi\u001b[0m \u001b[0;34m=\u001b[0m \u001b[0;36m0\u001b[0m\u001b[0;34m\u001b[0m\u001b[0;34m\u001b[0m\u001b[0m\n\u001b[1;32m     18\u001b[0m \u001b[0;32mfor\u001b[0m \u001b[0mclf\u001b[0m \u001b[0;32min\u001b[0m \u001b[0mclf_lst\u001b[0m\u001b[0;34m:\u001b[0m\u001b[0;34m\u001b[0m\u001b[0;34m\u001b[0m\u001b[0m\n\u001b[0;32m---> 19\u001b[0;31m     \u001b[0mplot_smote_parms\u001b[0m\u001b[0;34m(\u001b[0m\u001b[0maxs\u001b[0m\u001b[0;34m[\u001b[0m\u001b[0mi\u001b[0m\u001b[0;34m]\u001b[0m\u001b[0;34m,\u001b[0m \u001b[0mclf\u001b[0m\u001b[0;34m,\u001b[0m \u001b[0mclassifiers\u001b[0m\u001b[0;34m)\u001b[0m\u001b[0;34m\u001b[0m\u001b[0;34m\u001b[0m\u001b[0m\n\u001b[0m",
      "\u001b[0;31mNameError\u001b[0m: name 'plot_smote_parms' is not defined"
     ]
    },
    {
     "data": {
      "image/png": "[encoded data removed]",
      "text/plain": [
       "<Figure size 432x288 with 3 Axes>"
      ]
     },
     "metadata": {
      "needs_background": "light"
     },
     "output_type": "display_data"
    }
   ],
   "source": [
    "\n",
    "X_train, X_test, y_train, y_test, \\\n",
    "c_train, c_test, X_holdout, y_holdout, c_holdout, \\\n",
    "features = h.load_data(holdoutseed, engineered_features=False)\n",
    "\n",
    "classifiers = h.load_classifier_dict(\"classifiers_ver03.pickle\")\n",
    "    \n",
    "print('Positive Class frequency: {:.5f}'.format(y_train.mean()))\n",
    "RatioList = [0.002, 0.005, 0.01, 0.02, 0.03, 0.04, 0.05, 0.10, 0.15, 0.20, 0.25]\n",
    "ScoringMethod='recall'\n",
    "clf_lst = [\"LR\", \"RF\", \"XGB\"]\n",
    "for clf in clf_lst:\n",
    "    smote_params(clf, classifiers, X_train, y_train, X_test, y_test, RatioList, ScoringMethod, TimeIt=True)\n",
    "\n",
    "h.save_classifier_dict(classifiers, \"04\")\n",
    "\n",
    "fig, axs = plt.subplots(1, len(clf_lst), sharey=True)\n",
    "i = 0\n",
    "for clf in clf_lst:\n",
    "    plot_smote_parms(axs[i], clf, classifiers)"
   ]
  },
  {
   "cell_type": "code",
   "execution_count": 77,
   "metadata": {},
   "outputs": [
    {
     "name": "stdout",
     "output_type": "stream",
     "text": [
      "LogisticRegression\n",
      "Best CV params 0.2\n",
      "Best CV value using training dataset: 0.867\n",
      "Best grid search fit using testing dataset: 0.873\n",
      "\n",
      "RandomForest\n",
      "Best CV params 0.04\n",
      "Best CV value using training dataset: 0.835\n",
      "Best grid search fit using testing dataset: 0.797\n",
      "\n",
      "XGBoost\n",
      "Best CV params 0.15\n",
      "Best CV value using training dataset: 0.832\n",
      "Best grid search fit using testing dataset: 0.835\n",
      "\n"
     ]
    }
   ],
   "source": [
    "print_smote_parms(clf_lst, classifiers)"
   ]
  },
  {
   "cell_type": "code",
   "execution_count": 72,
   "metadata": {},
   "outputs": [
    {
     "data": {
      "image/png": "[encoded data removed]",
      "text/plain": [
       "<Figure size 864x288 with 3 Axes>"
      ]
     },
     "metadata": {
      "needs_background": "light"
     },
     "output_type": "display_data"
    }
   ],
   "source": [
    "fig, axs = plt.subplots(1, len(clf_lst), figsize=(12,4), sharey=True)\n",
    "i = 0\n",
    "for clf in clf_lst:\n",
    "    plot_smote_parms(axs[i], clf, classifiers)\n",
    "    axs[i].plot(classifiers[clf]['SMOTE_bestparm'], classifiers[clf]['SMOTE_CVtrain_score'], \n",
    "                'ko', label=\"Optimum\")\n",
    "    axs[i].legend(loc='lower right')\n",
    "    i += 1"
   ]
  },
  {
   "cell_type": "code",
   "execution_count": 73,
   "metadata": {},
   "outputs": [],
   "source": [
    "fig.savefig(\"../images/smote_parms.png\")"
   ]
  },
  {
   "cell_type": "code",
   "execution_count": 85,
   "metadata": {},
   "outputs": [],
   "source": [
    "from imblearn.pipeline import make_pipeline as imb_make_pipeline\n",
    "from imblearn.pipeline import Pipeline as imb_Pipeline\n",
    "\n",
    "def update_pipeline(clf_lst, classifiers):\n",
    "    for clf in clf_lst:\n",
    "        steps = [('scaler', StandardScaler()),\n",
    "                 ('SMOTE', SMOTE(random_state=SEED, n_jobs=CPU,\n",
    "                                sampling_strategy=classifiers[clf]['SMOTE_bestparm'])),\n",
    "                 ('Classifier', classifiers[clf]['model'])]        \n",
    "        classifiers[clf]['pipeline'] = imb_Pipeline(steps) \n",
    "        \n",
    "classifiers = h.load_classifier_dict(\"classifiers_ver04.pickle\")        \n",
    "clf_lst = ['LR','RF','XGB']\n",
    "update_pipeline(clf_lst, classifiers)        \n",
    "h.save_classifier_dict(classifiers, \"04\")"
   ]
  },
  {
   "cell_type": "code",
   "execution_count": null,
   "metadata": {},
   "outputs": [],
   "source": [
    "# XGBoost with max_depth=5 (default is 6)\n"
   ]
  }
 ],
 "metadata": {
  "kernelspec": {
   "display_name": "Python 3",
   "language": "python",
   "name": "python3"
  },
  "language_info": {
   "codemirror_mode": {
    "name": "ipython",
    "version": 3
   },
   "file_extension": ".py",
   "mimetype": "text/x-python",
   "name": "python",
   "nbconvert_exporter": "python",
   "pygments_lexer": "ipython3",
   "version": "3.7.9"
  }
 },
 "nbformat": 4,
 "nbformat_minor": 4
}
