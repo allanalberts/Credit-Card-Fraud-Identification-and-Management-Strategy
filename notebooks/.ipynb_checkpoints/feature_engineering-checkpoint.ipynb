{
 "cells": [
  {
   "cell_type": "markdown",
   "metadata": {},
   "source": [
    "# Feature Engineering"
   ]
  },
  {
   "cell_type": "code",
   "execution_count": 1,
   "metadata": {},
   "outputs": [],
   "source": [
    "# import helpers as h\n",
    "import numpy as np\n",
    "import pandas as pd\n",
    "\n",
    "import scipy.stats as stats\n",
    "\n",
    "import matplotlib.pyplot as plt\n",
    "from sklearn.model_selection import train_test_split\n",
    "\n",
    "SEED = 123\n",
    "CPU = -1\n",
    "holdoutseed = 4\n",
    "FOLDS = 5"
   ]
  },
  {
   "cell_type": "code",
   "execution_count": 57,
   "metadata": {},
   "outputs": [],
   "source": [
    "def feature_engineering(data):\n",
    "    \"\"\"\n",
    "    Returns dataframe and feature list with features that are \n",
    "    relevant only for predicting fraud <= $1 converted\n",
    "    to zero (sample mean) for amounts > $1. Likewise, features\n",
    "    relevant for only predicting fraud above $1 have their\n",
    "    non relevant transactions converted to zero as well.\n",
    "\n",
    "    Parameters\n",
    "    ----------\n",
    "    data: dataframe containing transaction dataset\n",
    "\n",
    "    Returns\n",
    "    -------\n",
    "    df - Pandas Dataframe\n",
    "    feature_lst - list\n",
    "    \"\"\"\n",
    "\n",
    "    df = data.copy()\n",
    "    df['LowAmount'] = (data['Amount'] <= 1)\n",
    "    df['LowAmount'] = df['LowAmount'].astype(int)\n",
    "    df['NonLowAmount'] = (data['Amount'] > 1)\n",
    "    df['NonLowAmount'] = df['NonLowAmount'].astype(int)\n",
    "\n",
    "    df['V15'] = df['LowAmount'] * data['V15']\n",
    "    df['V24'] = df['LowAmount'] * data['V24']\n",
    "    df['V26'] = df['LowAmount'] * data['V26']\n",
    "\n",
    "    df['V8'] = df['NonLowAmount'] * data['V8']\n",
    "    df['V19'] = df['NonLowAmount'] * data['V19']\n",
    "    df['V21'] = df['NonLowAmount'] * data['V21']\n",
    "\n",
    "    feature_lst = ['V%d' % number for number in range(1, 13)] + \\\n",
    "                  ['V%d' % number for number in range(14, 22)] + \\\n",
    "                  ['V24', 'V26']\n",
    "\n",
    "    return df, feature_lst"
   ]
  },
  {
   "cell_type": "code",
   "execution_count": 58,
   "metadata": {},
   "outputs": [],
   "source": [
    "\n",
    "def load_data(holdoutseed, engineered_features=False):\n",
    "    \"\"\"\n",
    "    Returns datasets for cv training, testing, and a holdout\n",
    "    set for final performance analysis.  Also return list containing feature \n",
    "    column names. If engineered_features is True then sprecific features\n",
    "    will be modified to reflect engineered values. \n",
    " \n",
    "    Parameters\n",
    "    ----------\n",
    "    holdoutseed: int\n",
    "    engineered_features: bool\n",
    "\n",
    "    Returns\n",
    "    -------\n",
    "    X_cvtrain, X_test, X_holdout: Pandas DataFrames\n",
    "    y_cvtrain, y_test, y_holdout: Pandas Series\n",
    "    c_cvtrain, c_test, c_holdout: Pandas Series\n",
    "    features: list\n",
    "    \"\"\"\n",
    "\n",
    "    data = pd.read_csv(\"../data/creditcard.csv\")\n",
    "\n",
    "    if engineered_features:\n",
    "        data, features = feature_engineering(data)\n",
    "    else:\n",
    "        features = ['V%d' % number for number in range(1, 29)]\n",
    "    \n",
    "    X = data#[features]\n",
    "    y = data['Class']\n",
    "    c = data['Amount']   \n",
    "     \n",
    "     # Create hold-out data set for final testing\n",
    "    X_train, X_holdout, \\\n",
    "    y_train, y_holdout, \\\n",
    "    c_train, c_holdout = train_test_split(X, y, c, \n",
    "                                          test_size=0.20,\n",
    "                                          stratify=y, shuffle=True,\n",
    "                                          random_state=holdoutseed)\n",
    "\n",
    "     # Create cv training data set and test dataset\n",
    "    X_cvtrain, X_test, \\\n",
    "    y_cvtrain, y_test, \\\n",
    "    c_cvtrain, c_test = train_test_split(X_train, y_train, c_train, \n",
    "                                          test_size=0.20,\n",
    "                                          stratify=y_train, shuffle=True,\n",
    "                                          random_state=123)\n",
    "\n",
    "    return X_cvtrain, X_test, \\\n",
    "           y_cvtrain, y_test, \\\n",
    "           c_cvtrain, c_test, \\\n",
    "           X_holdout, y_holdout, c_holdout, \\\n",
    "           features\n"
   ]
  },
  {
   "cell_type": "code",
   "execution_count": 59,
   "metadata": {},
   "outputs": [],
   "source": [
    "X_train, X_test, \\\n",
    "y_train, y_test, \\\n",
    "c_train, c_test, \\\n",
    "X_holdout, y_holdout, c_holdout, \\\n",
    "features = load_data(4, engineered_features=True)"
   ]
  },
  {
   "cell_type": "code",
   "execution_count": 60,
   "metadata": {},
   "outputs": [],
   "source": [
    "def ttest(sample1, sample2, features):\n",
    "    \"\"\"\n",
    "    Returns a dataframe with a single row containing the p values for each Feature when sample1\n",
    "    is compared against sample2. Features are columns in the dataframe.\n",
    "\n",
    "    Parameters\n",
    "    ----------\n",
    "    sample1: Pandas dataframe represting the sample transactions and their associated features.\n",
    "    sample2: Pandas dataframe represting the sample transactions and their associated features.\n",
    "    Features: List of column names from input dataframes that are to be evaluated.\n",
    "\n",
    "    Returns\n",
    "    -------\n",
    "    Pandas DataFrame\n",
    "    \"\"\"\n",
    "\n",
    "    p_lst = []\n",
    "    for f in features:\n",
    "        stat, p_val = stats.ttest_ind(sample1[f], sample2[f], equal_var=False)  \n",
    "        p_lst.append(p_val)\n",
    "    df = pd.DataFrame(p_lst, index=features).reset_index()\n",
    "    df.columns = ['Feature','p_val']\n",
    "    return df"
   ]
  },
  {
   "cell_type": "code",
   "execution_count": 61,
   "metadata": {},
   "outputs": [],
   "source": [
    "def plot_pval_for_model(ax, grp1, grp2, features, title):\n",
    "    '''\n",
    "        Prints individual plot of p-values for each feature\n",
    "        \n",
    "        ARGS:\n",
    "            ax - axis to print on\n",
    "            grp1 - first group to compare with ttest\n",
    "            grp2 - second group to compare with ttest\n",
    "            Features - features to plot\n",
    "            title - plot title\n",
    "                    \n",
    "        Return:\n",
    "            ax - axis with plot\n",
    "    '''\n",
    "    df = ttest(grp1, grp2, features)\n",
    "    y = df['p_val']\n",
    "    ax.bar(features,y)\n",
    "    ax.set_ylim(0, 0.05)\n",
    "    ax.set_ylabel(\"p-value\")\n",
    "    ax.set_xlabel(\"Features\")\n",
    "    ax.set_title(title)\n",
    "\n",
    "def plot_pval_all(data, amount_threshold):\n",
    "    '''\n",
    "        Prints multiple plots of p-values for each feature\n",
    "        \n",
    "        ARGS:\n",
    "            data - pandas dataframe containing dataset\n",
    "            amount_threshold - dollar amount for segmenting comparison groups\n",
    "                    \n",
    "        Return:\n",
    "            None\n",
    "    '''\n",
    "    fig, axs = plt.subplots(2,1,figsize=(14,4))\n",
    "    grp1 = data[(data['Class']==1) & (data['Amount']<=amount_threshold)]\n",
    "    grp2 = data[(data['Class']==0) & (data['Amount']<=amount_threshold)]\n",
    "    title = f'Feature p-value (fraud vs. non-fraud) for transactions <= ${amount_threshold}'\n",
    "    plot_pval_for_model(axs[0], grp1, grp2, features, title)\n",
    "\n",
    "    grp3 = data[(data['Class']==1) & (data['Amount']>amount_threshold)]\n",
    "    grp4 = data[(data['Class']==0) & (data['Amount']>amount_threshold)]\n",
    "    title = f'Feature p-value (fraud vs. non-fraud) for transactions > ${amount_threshold}'\n",
    "    plot_pval_for_model(axs[1], grp3, grp4, features, title)\n",
    "\n",
    "    plt.tight_layout()\n",
    "#    fig.savefig(\"../img/features_pval.png\")\n"
   ]
  },
  {
   "cell_type": "code",
   "execution_count": 63,
   "metadata": {},
   "outputs": [
    {
     "data": {
      "image/png": "[encoded data removed]",
      "text/plain": [
       "<Figure size 1008x288 with 2 Axes>"
      ]
     },
     "metadata": {
      "needs_background": "light"
     },
     "output_type": "display_data"
    }
   ],
   "source": [
    "# X = X_train.append([X_test])\n",
    "plot_pval_all(data=X_holdout, amount_threshold=1.00)"
   ]
  },
  {
   "cell_type": "code",
   "execution_count": null,
   "metadata": {},
   "outputs": [],
   "source": []
  }
 ],
 "metadata": {
  "kernelspec": {
   "display_name": "Python 3",
   "language": "python",
   "name": "python3"
  },
  "language_info": {
   "codemirror_mode": {
    "name": "ipython",
    "version": 3
   },
   "file_extension": ".py",
   "mimetype": "text/x-python",
   "name": "python",
   "nbconvert_exporter": "python",
   "pygments_lexer": "ipython3",
   "version": "3.7.9"
  }
 },
 "nbformat": 4,
 "nbformat_minor": 4
}
