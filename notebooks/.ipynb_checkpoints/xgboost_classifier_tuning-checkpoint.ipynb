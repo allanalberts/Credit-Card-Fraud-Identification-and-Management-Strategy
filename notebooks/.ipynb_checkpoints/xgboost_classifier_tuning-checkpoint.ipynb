{
 "cells": [
  {
   "cell_type": "markdown",
   "metadata": {},
   "source": [
    "# XGBoost Classifier Tuning"
   ]
  },
  {
   "cell_type": "markdown",
   "metadata": {},
   "source": [
    "XGBoost was selected because....."
   ]
  },
  {
   "cell_type": "code",
   "execution_count": 30,
   "metadata": {},
   "outputs": [],
   "source": [
    "from sklearn import preprocessing\n",
    "from sklearn.preprocessing import StandardScaler\n",
    "from imblearn.over_sampling import SMOTE\n",
    "from sklearn.metrics import recall_score\n",
    "import xgboost as xgb\n",
    "import time\n",
    "\n",
    "import matplotlib.pyplot as plt\n",
    "\n",
    "import sys\n",
    "sys.path.insert(0, '../src')\n",
    "import helpers as h\n",
    "\n",
    "SEED = 123\n",
    "holdoutseed = 4\n",
    "CPU = -1\n",
    "FOLDS = 5"
   ]
  },
  {
   "cell_type": "markdown",
   "metadata": {},
   "source": [
    "The native API for XGBoost was used instead of the klearn version because it:\n",
    "1. Automatically finds the best number of boosting rounds\n",
    "2. Has build in cross validation\n"
   ]
  },
  {
   "cell_type": "code",
   "execution_count": 39,
   "metadata": {},
   "outputs": [],
   "source": [
    "X_train, X_test, y_train, y_test, \\\n",
    "c_train, c_test, X_holdout, y_holdout, c_holdout, \\\n",
    "features = h.load_data(holdoutseed, engineered_features=False)\n",
    "\n",
    "#*********** CHANGE TO VER 04 **************\n",
    "# classifiers = h.load_classifier_dict(\"classifiers_ver04.pickle\")"
   ]
  },
  {
   "cell_type": "code",
   "execution_count": 48,
   "metadata": {},
   "outputs": [
    {
     "name": "stdout",
     "output_type": "stream",
     "text": [
      "aucpr 0.8113796000000001 for 14 rounds\n",
      "28 seconds execution time for max depth 3\n",
      "aucpr 0.8271294000000001 for 21 rounds\n",
      "36 seconds execution time for max depth 3\n",
      "aucpr 0.8308876 for 17 rounds\n",
      "35 seconds execution time for max depth 3\n",
      "aucpr 0.8175564 for 17 rounds\n",
      "36 seconds execution time for max depth 3\n",
      "aucpr 0.8293984 for 11 rounds\n",
      "27 seconds execution time for max depth 3\n",
      "aucpr 0.8248466000000001 for 38 rounds\n",
      "59 seconds execution time for max depth 3\n",
      "aucpr 0.809128 for 10 rounds\n",
      "25 seconds execution time for max depth 3\n",
      "aucpr 0.8198561999999999 for 51 rounds\n",
      "74 seconds execution time for max depth 3\n",
      "Best params: 3, AUCPR: 0.8308876\n"
     ]
    }
   ],
   "source": [
    "# Train WITHOUT SMOTE\n",
    "classifiers = h.load_classifier_dict(\"classifiers_ver03.pickle\")\n",
    "\n",
    "dtrain = xgb.DMatrix(X_train, label=y_train)\n",
    "dtest = xgb.DMatrix(X_test, label=y_test)\n",
    "\n",
    "\n",
    "from sklearn.metrics import f1_score\n",
    "import numpy as np\n",
    "\n",
    "def recall_eval(y_pred, dtrain):\n",
    "    y_true = dtrain.get_label()\n",
    "    recall = recall_score(y_true, np.round(y_pred))\n",
    "    return 'recall', recall\n",
    "params = {}\n",
    "params['eval_metric'] = \"aucpr\"\n",
    "#-------------\n",
    "\n",
    "max_aucpr = 0\n",
    "# gridsearch_params = [max_depth for max_depth in range(1,9)]\n",
    "gridsearch_params = [min_child_weight for min_child_weight in range(2,10)]\n",
    "aucpr_lst = []\n",
    "# for min_child_weight in gridsearch_params:\n",
    "for max_depth, min_child_weight in gridsearch_params:\n",
    "    print(\"CV with max_depth={}, min_child_weight={}\".format(\n",
    "                             max_depth,\n",
    "                             min_child_weight))\n",
    "    # Update our parameters\n",
    "    params['max_depth'] = max_depth\n",
    "    params['min_child_weight'] = min_child_weight\n",
    "\n",
    "    start_time = time.time()\n",
    "#    params['min_child_weight'] = min_child_weight\n",
    "    cv_results = xgb.cv(params,\n",
    "                        dtrain,\n",
    "                        num_boost_round=999,\n",
    "                        seed=42,\n",
    "                        nfold=5,\n",
    "                        metrics={'aucpr'},\n",
    "                        early_stopping_rounds=10)\n",
    "    mean_aucpr = cv_results['test-aucpr-mean'].max()\n",
    "    boost_rounds = cv_results['test-aucpr-mean'].argmax()\n",
    "    print(f\"aucpr {mean_aucpr} for {boost_rounds} rounds\")\n",
    "    if mean_aucpr > max_aucpr:\n",
    "        max_aucpr = mean_aucpr\n",
    "        best_params = (max_depth, min_child_weight)\n",
    "#        best_params = (max_depth)\n",
    "\n",
    "    aucpr_lst.append(mean_aucpr)\n",
    "    t = time.time() - start_time\n",
    "    print(f\"{t:.0f} seconds execution time for max depth {max_depth} min_child_weight {min_child_weight}\")\n",
    "\n",
    "# print(f\"Best params: {best_params}, AUCPR: {max_aucpr}\")\n",
    "print(\"f\"Best params: {best_params[0]}, {best_params[1]}, AUCPR: {max_aucpr}\")"
   ]
  },
  {
   "cell_type": "code",
   "execution_count": 49,
   "metadata": {},
   "outputs": [
    {
     "data": {
      "text/plain": [
       "[<matplotlib.lines.Line2D at 0x7fac45a6f050>]"
      ]
     },
     "execution_count": 49,
     "metadata": {},
     "output_type": "execute_result"
    },
    {
     "data": {
      "image/png": "[encoded data removed]",
      "text/plain": [
       "<Figure size 432x288 with 1 Axes>"
      ]
     },
     "metadata": {
      "needs_background": "light"
     },
     "output_type": "display_data"
    }
   ],
   "source": [
    "# Evaluation for min_child_weight\n",
    "\n",
    "min_child_weights = gridsearch_params\n",
    "min_child_weight_results = aucpr_lst\n",
    "\n",
    "fig, ax = plt.subplots()\n",
    "ax.plot(min_child_weights, min_child_weight_results, '-')"
   ]
  },
  {
   "cell_type": "code",
   "execution_count": 46,
   "metadata": {},
   "outputs": [
    {
     "data": {
      "text/plain": [
       "[<matplotlib.lines.Line2D at 0x7fac69ff11d0>]"
      ]
     },
     "execution_count": 46,
     "metadata": {},
     "output_type": "execute_result"
    },
    {
     "data": {
      "image/png": "[encoded data removed]",
      "text/plain": [
       "<Figure size 432x288 with 1 Axes>"
      ]
     },
     "metadata": {
      "needs_background": "light"
     },
     "output_type": "display_data"
    }
   ],
   "source": [
    "# Evaluation for max_depth\n",
    "\n",
    "max_depths = gridsearch_params\n",
    "max_depth_results = aucpr_lst\n",
    "\n",
    "fig, ax = plt.subplots()\n",
    "ax.plot(max_depths, max_depth_results, '-')"
   ]
  },
  {
   "cell_type": "code",
   "execution_count": 31,
   "metadata": {},
   "outputs": [],
   "source": [
    "# Instead of numpy arrays or pandas dataframes, XGB used DMatrix\n",
    "# ss = preprocessing.StandardScaler()\n",
    "# X_train = ss.fit_transform(X_train)\n",
    "# sm = SMOTE(random_state=SEED, n_jobs=CPU, sampling_strategy=classifiers[\"XGB\"]['SMOTE_bestparm'])\n",
    "# X_resample, y_resample = sm.fit_resample(X_train, y_train)\n",
    "\n",
    "# dtrain = xgb.DMatrix(X_resample, label=y_resample)\n",
    "# dtest = xgb.DMatrix(X_test, label=y_test)"
   ]
  },
  {
   "cell_type": "code",
   "execution_count": 19,
   "metadata": {},
   "outputs": [],
   "source": [
    "params = {\n",
    "    # Parameters that we are going to tune.\n",
    "#     'max_depth':6,\n",
    "#     'min_child_weight': 1,\n",
    "#     'eta':.3,\n",
    "#     'subsample': 1,\n",
    "#     'colsample_bytree': 1\n",
    "    # Other parameters\n",
    "#    'objective':'reg:linear',\n",
    "}\n",
    "\n",
    "# use Area Under Precision-Recall Curve for eval metric\n",
    "params['eval_metric'] = \"aucpr\"\n",
    "\n",
    "max_recall = 0\n",
    "gridsearch_params = [max_depth for max_depth in range(1,4)]\n",
    "gridsearch_params = [min_child_weight for min_child_weight in range(5,8)]\n",
    "for max_depth in gridsearch_params:\n",
    "    start_time = time.time()\n",
    "    params['max_depth'] = max_depth\n",
    "    cv_results = xgb.cv(params,\n",
    "                        dtrain,\n",
    "                        num_boost_round=999,\n",
    "                        seed=42,\n",
    "                        nfold=5,\n",
    "                        metrics={'aucpr'},\n",
    "                        early_stopping_rounds=10)\n",
    "    mean_aucpr = cv_results['test-aucpr-mean'].max()\n",
    "    boost_rounds = cv_results['test-aucpr-mean'].argmax()\n",
    "    print(f\"\\aucpr {mean_aucpr} for {boost_rounds} rounds\")\n",
    "    if mean_aucpr > max_aucpr:\n",
    "        max_aucpr = mean_aucpr\n",
    "        best_params = (max_depth)\n",
    "\n",
    "    t = time.time() - start_time\n",
    "    print(f\"{t:.0f} seconds execution time for max depth {max_depth}\")\n",
    "\n",
    "print(f\"Best params: {best_params}, AUCPR: {max_mae}\")"
   ]
  },
  {
   "cell_type": "code",
   "execution_count": null,
   "metadata": {},
   "outputs": [],
   "source": [
    "# early stopping rounds is number of rounds to stop if no improvement\n",
    "\n",
    "num_boost_round = 999\n",
    "model = xgb.train(\n",
    "    params,\n",
    "    dtrain,\n",
    "    num_boost_round=999,\n",
    "    evals=[(dtest, \"Test\")],\n",
    "    early_stopping_rounds=10,\n",
    "    seed=SEED,\n",
    "    nfold=5\n",
    ")\n",
    "\n",
    "cv_results = xgb.cv(\n",
    "    params,\n",
    "    dtrain,\n",
    "    num_boost_round=num_boost_round,\n",
    "    seed=42,\n",
    "    nfold=5,\n",
    "    metrics={'mae'},\n",
    "    early_stopping_rounds=10\n",
    ")\n",
    "cv_results['test-aucpr-mean'].min()"
   ]
  },
  {
   "cell_type": "code",
   "execution_count": null,
   "metadata": {},
   "outputs": [],
   "source": [
    "gridsearch_params = [\n",
    "    (max_depth, min_child_weight)\n",
    "    for max_depth in range(9,12)\n",
    "    for min_child_weight in range(5,8)\n",
    "]"
   ]
  },
  {
   "cell_type": "code",
   "execution_count": null,
   "metadata": {},
   "outputs": [],
   "source": [
    "# Define initial best params and MAE\n",
    "min_mae = float(\"Inf\")\n",
    "best_params = None\n",
    "for max_depth, min_child_weight in gridsearch_params:\n",
    "    print(\"CV with max_depth={}, min_child_weight={}\".format(\n",
    "                             max_depth,\n",
    "                             min_child_weight))\n",
    "    # Update our parameters\n",
    "    params['max_depth'] = max_depth\n",
    "    params['min_child_weight'] = min_child_weight\n",
    "    # Run CV\n",
    "    cv_results = xgb.cv(\n",
    "        params,\n",
    "        dtrain,\n",
    "        num_boost_round=num_boost_round,\n",
    "        seed=42,\n",
    "        nfold=5,\n",
    "        metrics={'mae'},\n",
    "        early_stopping_rounds=10\n",
    "    )\n",
    "    # Update best MAE\n",
    "    mean_mae = cv_results['test-mae-mean'].min()\n",
    "    boost_rounds = cv_results['test-mae-mean'].argmin()\n",
    "    print(\"\\tMAE {} for {} rounds\".format(mean_mae, boost_rounds))\n",
    "    if mean_mae < min_mae:\n",
    "        min_mae = mean_mae\n",
    "        best_params = (max_depth,min_child_weight)\n",
    "print(\"Best params: {}, {}, MAE: {}\".format(best_params[0], best_params[1], min_mae))\n"
   ]
  },
  {
   "cell_type": "code",
   "execution_count": 32,
   "metadata": {},
   "outputs": [
    {
     "name": "stdout",
     "output_type": "stream",
     "text": [
      "\u0007ucpr 0.8921470000000001 for 0 rounds\n",
      "574 seconds execution time for max depth 2\n",
      "\u0007ucpr 0.9222286000000001 for 0 rounds\n",
      "227 seconds execution time for max depth 3\n",
      "\u0007ucpr 0.9375062 for 0 rounds\n",
      "364 seconds execution time for max depth 4\n"
     ]
    },
    {
     "ename": "KeyboardInterrupt",
     "evalue": "",
     "output_type": "error",
     "traceback": [
      "\u001b[0;31m---------------------------------------------------------------------------\u001b[0m",
      "\u001b[0;31mKeyboardInterrupt\u001b[0m                         Traceback (most recent call last)",
      "\u001b[0;32m<ipython-input-32-ae62e15ef893>\u001b[0m in \u001b[0;36m<module>\u001b[0;34m\u001b[0m\n\u001b[1;32m     10\u001b[0m                         \u001b[0mnfold\u001b[0m\u001b[0;34m=\u001b[0m\u001b[0;36m5\u001b[0m\u001b[0;34m,\u001b[0m\u001b[0;34m\u001b[0m\u001b[0;34m\u001b[0m\u001b[0m\n\u001b[1;32m     11\u001b[0m                         \u001b[0mmetrics\u001b[0m\u001b[0;34m=\u001b[0m\u001b[0;34m{\u001b[0m\u001b[0;34m'aucpr'\u001b[0m\u001b[0;34m}\u001b[0m\u001b[0;34m,\u001b[0m\u001b[0;34m\u001b[0m\u001b[0;34m\u001b[0m\u001b[0m\n\u001b[0;32m---> 12\u001b[0;31m                         early_stopping_rounds=10)\n\u001b[0m\u001b[1;32m     13\u001b[0m     \u001b[0mmean_aucpr\u001b[0m \u001b[0;34m=\u001b[0m \u001b[0mcv_results\u001b[0m\u001b[0;34m[\u001b[0m\u001b[0;34m'test-aucpr-mean'\u001b[0m\u001b[0;34m]\u001b[0m\u001b[0;34m.\u001b[0m\u001b[0mmin\u001b[0m\u001b[0;34m(\u001b[0m\u001b[0;34m)\u001b[0m\u001b[0;34m\u001b[0m\u001b[0;34m\u001b[0m\u001b[0m\n\u001b[1;32m     14\u001b[0m     \u001b[0mboost_rounds\u001b[0m \u001b[0;34m=\u001b[0m \u001b[0mcv_results\u001b[0m\u001b[0;34m[\u001b[0m\u001b[0;34m'test-aucpr-mean'\u001b[0m\u001b[0;34m]\u001b[0m\u001b[0;34m.\u001b[0m\u001b[0margmin\u001b[0m\u001b[0;34m(\u001b[0m\u001b[0;34m)\u001b[0m\u001b[0;34m\u001b[0m\u001b[0;34m\u001b[0m\u001b[0m\n",
      "\u001b[0;32m~/opt/anaconda3/lib/python3.7/site-packages/xgboost/training.py\u001b[0m in \u001b[0;36mcv\u001b[0;34m(params, dtrain, num_boost_round, nfold, stratified, folds, metrics, obj, feval, maximize, early_stopping_rounds, fpreproc, as_pandas, verbose_eval, show_stdv, seed, callbacks, shuffle)\u001b[0m\n\u001b[1;32m    497\u001b[0m         \u001b[0;32mfor\u001b[0m \u001b[0mfold\u001b[0m \u001b[0;32min\u001b[0m \u001b[0mcvfolds\u001b[0m\u001b[0;34m:\u001b[0m\u001b[0;34m\u001b[0m\u001b[0;34m\u001b[0m\u001b[0m\n\u001b[1;32m    498\u001b[0m             \u001b[0mfold\u001b[0m\u001b[0;34m.\u001b[0m\u001b[0mupdate\u001b[0m\u001b[0;34m(\u001b[0m\u001b[0mi\u001b[0m\u001b[0;34m,\u001b[0m \u001b[0mobj\u001b[0m\u001b[0;34m)\u001b[0m\u001b[0;34m\u001b[0m\u001b[0;34m\u001b[0m\u001b[0m\n\u001b[0;32m--> 499\u001b[0;31m         \u001b[0mres\u001b[0m \u001b[0;34m=\u001b[0m \u001b[0maggcv\u001b[0m\u001b[0;34m(\u001b[0m\u001b[0;34m[\u001b[0m\u001b[0mf\u001b[0m\u001b[0;34m.\u001b[0m\u001b[0meval\u001b[0m\u001b[0;34m(\u001b[0m\u001b[0mi\u001b[0m\u001b[0;34m,\u001b[0m \u001b[0mfeval\u001b[0m\u001b[0;34m)\u001b[0m \u001b[0;32mfor\u001b[0m \u001b[0mf\u001b[0m \u001b[0;32min\u001b[0m \u001b[0mcvfolds\u001b[0m\u001b[0;34m]\u001b[0m\u001b[0;34m)\u001b[0m\u001b[0;34m\u001b[0m\u001b[0;34m\u001b[0m\u001b[0m\n\u001b[0m\u001b[1;32m    500\u001b[0m \u001b[0;34m\u001b[0m\u001b[0m\n\u001b[1;32m    501\u001b[0m         \u001b[0;32mfor\u001b[0m \u001b[0mkey\u001b[0m\u001b[0;34m,\u001b[0m \u001b[0mmean\u001b[0m\u001b[0;34m,\u001b[0m \u001b[0mstd\u001b[0m \u001b[0;32min\u001b[0m \u001b[0mres\u001b[0m\u001b[0;34m:\u001b[0m\u001b[0;34m\u001b[0m\u001b[0;34m\u001b[0m\u001b[0m\n",
      "\u001b[0;32m~/opt/anaconda3/lib/python3.7/site-packages/xgboost/training.py\u001b[0m in \u001b[0;36m<listcomp>\u001b[0;34m(.0)\u001b[0m\n\u001b[1;32m    497\u001b[0m         \u001b[0;32mfor\u001b[0m \u001b[0mfold\u001b[0m \u001b[0;32min\u001b[0m \u001b[0mcvfolds\u001b[0m\u001b[0;34m:\u001b[0m\u001b[0;34m\u001b[0m\u001b[0;34m\u001b[0m\u001b[0m\n\u001b[1;32m    498\u001b[0m             \u001b[0mfold\u001b[0m\u001b[0;34m.\u001b[0m\u001b[0mupdate\u001b[0m\u001b[0;34m(\u001b[0m\u001b[0mi\u001b[0m\u001b[0;34m,\u001b[0m \u001b[0mobj\u001b[0m\u001b[0;34m)\u001b[0m\u001b[0;34m\u001b[0m\u001b[0;34m\u001b[0m\u001b[0m\n\u001b[0;32m--> 499\u001b[0;31m         \u001b[0mres\u001b[0m \u001b[0;34m=\u001b[0m \u001b[0maggcv\u001b[0m\u001b[0;34m(\u001b[0m\u001b[0;34m[\u001b[0m\u001b[0mf\u001b[0m\u001b[0;34m.\u001b[0m\u001b[0meval\u001b[0m\u001b[0;34m(\u001b[0m\u001b[0mi\u001b[0m\u001b[0;34m,\u001b[0m \u001b[0mfeval\u001b[0m\u001b[0;34m)\u001b[0m \u001b[0;32mfor\u001b[0m \u001b[0mf\u001b[0m \u001b[0;32min\u001b[0m \u001b[0mcvfolds\u001b[0m\u001b[0;34m]\u001b[0m\u001b[0;34m)\u001b[0m\u001b[0;34m\u001b[0m\u001b[0;34m\u001b[0m\u001b[0m\n\u001b[0m\u001b[1;32m    500\u001b[0m \u001b[0;34m\u001b[0m\u001b[0m\n\u001b[1;32m    501\u001b[0m         \u001b[0;32mfor\u001b[0m \u001b[0mkey\u001b[0m\u001b[0;34m,\u001b[0m \u001b[0mmean\u001b[0m\u001b[0;34m,\u001b[0m \u001b[0mstd\u001b[0m \u001b[0;32min\u001b[0m \u001b[0mres\u001b[0m\u001b[0;34m:\u001b[0m\u001b[0;34m\u001b[0m\u001b[0;34m\u001b[0m\u001b[0m\n",
      "\u001b[0;32m~/opt/anaconda3/lib/python3.7/site-packages/xgboost/training.py\u001b[0m in \u001b[0;36meval\u001b[0;34m(self, iteration, feval)\u001b[0m\n\u001b[1;32m    228\u001b[0m     \u001b[0;32mdef\u001b[0m \u001b[0meval\u001b[0m\u001b[0;34m(\u001b[0m\u001b[0mself\u001b[0m\u001b[0;34m,\u001b[0m \u001b[0miteration\u001b[0m\u001b[0;34m,\u001b[0m \u001b[0mfeval\u001b[0m\u001b[0;34m)\u001b[0m\u001b[0;34m:\u001b[0m\u001b[0;34m\u001b[0m\u001b[0;34m\u001b[0m\u001b[0m\n\u001b[1;32m    229\u001b[0m         \u001b[0;34m\"\"\"\"Evaluate the CVPack for one iteration.\"\"\"\u001b[0m\u001b[0;34m\u001b[0m\u001b[0;34m\u001b[0m\u001b[0m\n\u001b[0;32m--> 230\u001b[0;31m         \u001b[0;32mreturn\u001b[0m \u001b[0mself\u001b[0m\u001b[0;34m.\u001b[0m\u001b[0mbst\u001b[0m\u001b[0;34m.\u001b[0m\u001b[0meval_set\u001b[0m\u001b[0;34m(\u001b[0m\u001b[0mself\u001b[0m\u001b[0;34m.\u001b[0m\u001b[0mwatchlist\u001b[0m\u001b[0;34m,\u001b[0m \u001b[0miteration\u001b[0m\u001b[0;34m,\u001b[0m \u001b[0mfeval\u001b[0m\u001b[0;34m)\u001b[0m\u001b[0;34m\u001b[0m\u001b[0;34m\u001b[0m\u001b[0m\n\u001b[0m\u001b[1;32m    231\u001b[0m \u001b[0;34m\u001b[0m\u001b[0m\n\u001b[1;32m    232\u001b[0m \u001b[0;34m\u001b[0m\u001b[0m\n",
      "\u001b[0;32m~/opt/anaconda3/lib/python3.7/site-packages/xgboost/core.py\u001b[0m in \u001b[0;36meval_set\u001b[0;34m(self, evals, iteration, feval)\u001b[0m\n\u001b[1;32m   1225\u001b[0m                                               \u001b[0mdmats\u001b[0m\u001b[0;34m,\u001b[0m \u001b[0mevnames\u001b[0m\u001b[0;34m,\u001b[0m\u001b[0;34m\u001b[0m\u001b[0;34m\u001b[0m\u001b[0m\n\u001b[1;32m   1226\u001b[0m                                               \u001b[0mc_bst_ulong\u001b[0m\u001b[0;34m(\u001b[0m\u001b[0mlen\u001b[0m\u001b[0;34m(\u001b[0m\u001b[0mevals\u001b[0m\u001b[0;34m)\u001b[0m\u001b[0;34m)\u001b[0m\u001b[0;34m,\u001b[0m\u001b[0;34m\u001b[0m\u001b[0;34m\u001b[0m\u001b[0m\n\u001b[0;32m-> 1227\u001b[0;31m                                               ctypes.byref(msg)))\n\u001b[0m\u001b[1;32m   1228\u001b[0m         \u001b[0mres\u001b[0m \u001b[0;34m=\u001b[0m \u001b[0mmsg\u001b[0m\u001b[0;34m.\u001b[0m\u001b[0mvalue\u001b[0m\u001b[0;34m.\u001b[0m\u001b[0mdecode\u001b[0m\u001b[0;34m(\u001b[0m\u001b[0;34m)\u001b[0m\u001b[0;34m\u001b[0m\u001b[0;34m\u001b[0m\u001b[0m\n\u001b[1;32m   1229\u001b[0m         \u001b[0;32mif\u001b[0m \u001b[0mfeval\u001b[0m \u001b[0;32mis\u001b[0m \u001b[0;32mnot\u001b[0m \u001b[0;32mNone\u001b[0m\u001b[0;34m:\u001b[0m\u001b[0;34m\u001b[0m\u001b[0;34m\u001b[0m\u001b[0m\n",
      "\u001b[0;31mKeyboardInterrupt\u001b[0m: "
     ]
    }
   ],
   "source": [
    "max_aucpr = 0\n",
    "gridsearch_params = [max_depth for max_depth in range(2,10)]\n",
    "for max_depth in gridsearch_params:\n",
    "    start_time = time.time()\n",
    "    params['max_depth'] = max_depth\n",
    "    cv_results = xgb.cv(params,\n",
    "                        dtrain,\n",
    "                        num_boost_round=999,\n",
    "                        seed=42,\n",
    "                        nfold=5,\n",
    "                        metrics={'aucpr'},\n",
    "                        early_stopping_rounds=10)\n",
    "    mean_aucpr = cv_results['test-aucpr-mean'].max()\n",
    "    boost_rounds = cv_results['test-aucpr-mean'].argmax()\n",
    "    print(f\"\\aucpr {mean_aucpr} for {boost_rounds} rounds\")\n",
    "    if mean_aucpr > max_aucpr:\n",
    "        max_aucpr = mean_aucpr\n",
    "        best_params = (max_depth)\n",
    "\n",
    "    t = time.time() - start_time\n",
    "    print(f\"{t:.0f} seconds execution time for max depth {max_depth}\")\n",
    "\n",
    "print(f\"Best params: {best_params}, AUCPR: {max_mae}\")"
   ]
  },
  {
   "cell_type": "code",
   "execution_count": 38,
   "metadata": {},
   "outputs": [
    {
     "name": "stdout",
     "output_type": "stream",
     "text": [
      "CV with max_depth=2, min_child_weight=5\n",
      "\tAUCPR 0.9971800000000002 for 998 rounds\n",
      "CV with max_depth=2, min_child_weight=6\n",
      "\tAUCPR 0.9955008 for 578 rounds\n",
      "CV with max_depth=2, min_child_weight=7\n",
      "\tAUCPR 0.9971038 for 998 rounds\n",
      "CV with max_depth=3, min_child_weight=5\n",
      "\tAUCPR 0.9969802 for 266 rounds\n",
      "CV with max_depth=3, min_child_weight=6\n",
      "\tAUCPR 0.9978226000000001 for 398 rounds\n",
      "CV with max_depth=3, min_child_weight=7\n",
      "\tAUCPR 0.9984132000000001 for 614 rounds\n",
      "CV with max_depth=4, min_child_weight=5\n",
      "\tAUCPR 0.9993058000000001 for 336 rounds\n",
      "CV with max_depth=4, min_child_weight=6\n",
      "\tAUCPR 0.9991199999999999 for 277 rounds\n",
      "CV with max_depth=4, min_child_weight=7\n",
      "\tAUCPR 0.999216 for 346 rounds\n"
     ]
    },
    {
     "ename": "TypeError",
     "evalue": "'NoneType' object is not subscriptable",
     "output_type": "error",
     "traceback": [
      "\u001b[0;31m---------------------------------------------------------------------------\u001b[0m",
      "\u001b[0;31mTypeError\u001b[0m                                 Traceback (most recent call last)",
      "\u001b[0;32m<ipython-input-38-206bf7a1f03b>\u001b[0m in \u001b[0;36m<module>\u001b[0;34m\u001b[0m\n\u001b[1;32m     33\u001b[0m         \u001b[0mmax_aucpr\u001b[0m \u001b[0;34m=\u001b[0m \u001b[0mmean_aucpr\u001b[0m\u001b[0;34m\u001b[0m\u001b[0;34m\u001b[0m\u001b[0m\n\u001b[1;32m     34\u001b[0m         \u001b[0mbest_params\u001b[0m \u001b[0;34m=\u001b[0m \u001b[0;34m(\u001b[0m\u001b[0mmax_depth\u001b[0m\u001b[0;34m,\u001b[0m\u001b[0mmin_child_weight\u001b[0m\u001b[0;34m)\u001b[0m\u001b[0;34m\u001b[0m\u001b[0;34m\u001b[0m\u001b[0m\n\u001b[0;32m---> 35\u001b[0;31m \u001b[0mprint\u001b[0m\u001b[0;34m(\u001b[0m\u001b[0;34m\"Best params: {}, {}, MAE: {}\"\u001b[0m\u001b[0;34m.\u001b[0m\u001b[0mformat\u001b[0m\u001b[0;34m(\u001b[0m\u001b[0mbest_params\u001b[0m\u001b[0;34m[\u001b[0m\u001b[0;36m0\u001b[0m\u001b[0;34m]\u001b[0m\u001b[0;34m,\u001b[0m \u001b[0mbest_params\u001b[0m\u001b[0;34m[\u001b[0m\u001b[0;36m1\u001b[0m\u001b[0;34m]\u001b[0m\u001b[0;34m,\u001b[0m \u001b[0mmin_aucpr\u001b[0m\u001b[0;34m)\u001b[0m\u001b[0;34m)\u001b[0m\u001b[0;34m\u001b[0m\u001b[0;34m\u001b[0m\u001b[0m\n\u001b[0m",
      "\u001b[0;31mTypeError\u001b[0m: 'NoneType' object is not subscriptable"
     ]
    }
   ],
   "source": [
    "# Define initial best params and MAE\n",
    "max_max = 0\n",
    "best_params = None\n",
    "gridsearch_params = [\n",
    "    (max_depth, min_child_weight)\n",
    "    for max_depth in range(2,5)\n",
    "    for min_child_weight in range(5,8)\n",
    "]\n",
    "\n",
    "for max_depth, min_child_weight in gridsearch_params:\n",
    "    print(\"CV with max_depth={}, min_child_weight={}\".format(\n",
    "                             max_depth,\n",
    "                             min_child_weight))\n",
    "    # Update our parameters\n",
    "    params['max_depth'] = max_depth\n",
    "    params['min_child_weight'] = min_child_weight\n",
    "    # Run CV\n",
    "    cv_results = xgb.cv(\n",
    "        params,\n",
    "        dtrain,\n",
    "        num_boost_round=999,\n",
    "        seed=42,\n",
    "        nfold=5,\n",
    "        metrics={'aucpr'},\n",
    "        early_stopping_rounds=10\n",
    "    )\n",
    "    # Update best MAE\n",
    "    mean_aucpr = cv_results['test-aucpr-mean'].max()\n",
    "    boost_rounds = cv_results['test-aucpr-mean'].argmax()\n",
    "    print(\"\\tAUCPR {} for {} rounds\".format(mean_aucpr, boost_rounds))\n",
    "\n",
    "    if mean_aucpr > max_aucpr:\n",
    "        max_aucpr = mean_aucpr\n",
    "        best_params = (max_depth,min_child_weight)\n",
    "print(\"Best params: {}, {}, MAE: {}\".format(best_params[0], best_params[1], min_aucpr))"
   ]
  },
  {
   "cell_type": "code",
   "execution_count": null,
   "metadata": {},
   "outputs": [],
   "source": []
  }
 ],
 "metadata": {
  "kernelspec": {
   "display_name": "Python 3",
   "language": "python",
   "name": "python3"
  },
  "language_info": {
   "codemirror_mode": {
    "name": "ipython",
    "version": 3
   },
   "file_extension": ".py",
   "mimetype": "text/x-python",
   "name": "python",
   "nbconvert_exporter": "python",
   "pygments_lexer": "ipython3",
   "version": "3.7.9"
  }
 },
 "nbformat": 4,
 "nbformat_minor": 4
}
