{
 "cells": [
  {
   "cell_type": "markdown",
   "metadata": {},
   "source": [
    "# Logistic Regression Classifier Tuning"
   ]
  },
  {
   "cell_type": "markdown",
   "metadata": {},
   "source": [
    "Default values:\n",
    "penalty='l2', *, C=1.0, solver='lbfgs', max_iter=100\n",
    "\n",
    "solver in [‘newton-cg’, ‘lbfgs’, ‘liblinear’, ‘sag’, ‘saga’]\n",
    "Regularization (penalty) can sometimes be helpful.\n",
    "penalty in [‘none’, ‘l1’, ‘l2’, ‘elasticnet’]\n",
    "Note: not all solvers support all regularization terms.\n",
    "\n",
    "The C parameter controls the penality strength, which can also be effective.\n",
    "C in [100, 10, 1.0, 0.1, 0.01]"
   ]
  },
  {
   "cell_type": "code",
   "execution_count": 3,
   "metadata": {},
   "outputs": [
    {
     "name": "stdout",
     "output_type": "stream",
     "text": [
      "Best: 0.623280 using {'C': 100, 'penalty': 'l2', 'solver': 'newton-cg'}\n",
      "0.623280 (0.076995) with: {'C': 100, 'penalty': 'l2', 'solver': 'newton-cg'}\n",
      "0.623280 (0.076995) with: {'C': 100, 'penalty': 'l2', 'solver': 'lbfgs'}\n",
      "0.623280 (0.076995) with: {'C': 100, 'penalty': 'l2', 'solver': 'liblinear'}\n",
      "0.623280 (0.076995) with: {'C': 10, 'penalty': 'l2', 'solver': 'newton-cg'}\n",
      "0.623280 (0.076995) with: {'C': 10, 'penalty': 'l2', 'solver': 'lbfgs'}\n",
      "0.622222 (0.078877) with: {'C': 10, 'penalty': 'l2', 'solver': 'liblinear'}\n",
      "0.622222 (0.078877) with: {'C': 1.0, 'penalty': 'l2', 'solver': 'newton-cg'}\n",
      "0.622222 (0.078877) with: {'C': 1.0, 'penalty': 'l2', 'solver': 'lbfgs'}\n",
      "0.620106 (0.079780) with: {'C': 1.0, 'penalty': 'l2', 'solver': 'liblinear'}\n",
      "0.612698 (0.079850) with: {'C': 0.1, 'penalty': 'l2', 'solver': 'newton-cg'}\n",
      "0.612698 (0.079850) with: {'C': 0.1, 'penalty': 'l2', 'solver': 'lbfgs'}\n",
      "0.602116 (0.080618) with: {'C': 0.1, 'penalty': 'l2', 'solver': 'liblinear'}\n",
      "0.574603 (0.085420) with: {'C': 0.01, 'penalty': 'l2', 'solver': 'newton-cg'}\n",
      "0.574603 (0.085420) with: {'C': 0.01, 'penalty': 'l2', 'solver': 'lbfgs'}\n",
      "0.586243 (0.078293) with: {'C': 0.01, 'penalty': 'l2', 'solver': 'liblinear'}\n"
     ]
    }
   ],
   "source": [
    "# example of grid searching key hyperparametres for logistic regression\n",
    "from sklearn.datasets import make_blobs\n",
    "from sklearn.model_selection import RepeatedStratifiedKFold\n",
    "from sklearn.model_selection import GridSearchCV\n",
    "from sklearn.linear_model import LogisticRegression\n",
    "\n",
    "import sys\n",
    "sys.path.insert(0, '../src')\n",
    "import helpers as h\n",
    "\n",
    "# define dataset\n",
    "X_train, X_test, \\\n",
    "y_train, y_test, \\\n",
    "c_train, c_test, \\\n",
    "X_holdout, y_holdout, c_holdout, \\\n",
    "features = h.load_data(4, engineered_features=False)\n",
    "\n",
    "\n",
    "# define models and parameters\n",
    "model = LogisticRegression()\n",
    "solvers = ['newton-cg', 'lbfgs', 'liblinear']\n",
    "penalty = ['l2'] \n",
    "c_values = [100, 10, 1.0, 0.1, 0.01]\n",
    "\n",
    "# define grid search\n",
    "grid = dict(solver=solvers,penalty=penalty,C=c_values)\n",
    "cv = RepeatedStratifiedKFold(n_splits=5, n_repeats=3, random_state=1)\n",
    "grid_search = GridSearchCV(estimator=model, param_grid=grid, n_jobs=-1, cv=cv, scoring='recall',error_score=0)\n",
    "grid_result = grid_search.fit(X_train, y_train)\n",
    "\n",
    "# summarize results\n",
    "print(\"Best: %f using %s\" % (grid_result.best_score_, grid_result.best_params_))\n",
    "means = grid_result.cv_results_['mean_test_score']\n",
    "stds = grid_result.cv_results_['std_test_score']\n",
    "params = grid_result.cv_results_['params']\n",
    "for mean, stdev, param in zip(means, stds, params):\n",
    "    print(\"%f (%f) with: %r\" % (mean, stdev, param))"
   ]
  },
  {
   "cell_type": "code",
   "execution_count": null,
   "metadata": {},
   "outputs": [],
   "source": []
  }
 ],
 "metadata": {
  "kernelspec": {
   "display_name": "Python 3",
   "language": "python",
   "name": "python3"
  },
  "language_info": {
   "codemirror_mode": {
    "name": "ipython",
    "version": 3
   },
   "file_extension": ".py",
   "mimetype": "text/x-python",
   "name": "python",
   "nbconvert_exporter": "python",
   "pygments_lexer": "ipython3",
   "version": "3.7.9"
  }
 },
 "nbformat": 4,
 "nbformat_minor": 4
}
