{
 "cells": [
  {
   "cell_type": "code",
   "execution_count": 2,
   "metadata": {},
   "outputs": [],
   "source": [
    "from sklearn import preprocessing\n",
    "from sklearn.preprocessing import StandardScaler\n",
    "from imblearn.over_sampling import SMOTE\n",
    "from sklearn.metrics import recall_score\n",
    "import xgboost as xgb\n",
    "import time\n",
    "\n",
    "import matplotlib.pyplot as plt\n",
    "\n",
    "import sys\n",
    "sys.path.insert(0, '../src')\n",
    "import helpers as h\n",
    "\n",
    "SEED = 123\n",
    "holdoutseed = 4\n",
    "CPU = -1\n",
    "FOLDS = 5"
   ]
  },
  {
   "cell_type": "code",
   "execution_count": 3,
   "metadata": {},
   "outputs": [],
   "source": [
    "X_train, X_test, y_train, y_test, \\\n",
    "c_train, c_test, X_holdout, y_holdout, c_holdout, \\\n",
    "features = h.load_data(holdoutseed, engineered_features=False)\n",
    "\n",
    "#*********** CHANGE TO VER 04 **************\n",
    "# classifiers = h.load_classifier_dict(\"classifiers_ver04.pickle\")\n",
    "\n",
    "# Train WITHOUT SMOTE\n",
    "classifiers = h.load_classifier_dict(\"classifiers_ver03.pickle\")\n",
    "\n",
    "dtrain = xgb.DMatrix(X_train, label=y_train)\n",
    "dtest = xgb.DMatrix(X_test, label=y_test)"
   ]
  },
  {
   "cell_type": "code",
   "execution_count": 6,
   "metadata": {},
   "outputs": [
    {
     "name": "stdout",
     "output_type": "stream",
     "text": [
      "CV with max_depth=5, eta=0.1\n",
      "aucpr 0.8318096 for 42 rounds\n",
      "53 seconds execution time for max depth 5 eta 0.1\n",
      "CV with max_depth=5, eta=0.2\n",
      "aucpr 0.8321072 for 44 rounds\n",
      "57 seconds execution time for max depth 5 eta 0.2\n",
      "Best params: 5, 0.2, AUCPR: 0.8321072\n"
     ]
    }
   ],
   "source": [
    "\n",
    "\n",
    "\n",
    "from sklearn.metrics import f1_score\n",
    "import numpy as np\n",
    "\n",
    "\n",
    "params = {}\n",
    "params['eval_metric'] = \"aucpr\"\n",
    "#-------------\n",
    "\n",
    "max_aucpr = 0\n",
    "# gridsearch_params = [max_depth for max_depth in range(1,9)]\n",
    "# gridsearch_params = [min_child_weight for min_child_weight in range(2,10)]\n",
    "gridsearch_params = [\n",
    "    (max_depth, eta)\n",
    "    for max_depth in range(5,6)\n",
    "    for eta in [.1,.2]]\n",
    "aucpr_lst = []\n",
    "# for min_child_weight in gridsearch_params:\n",
    "for max_depth, eta in gridsearch_params:\n",
    "    print(\"CV with max_depth={}, eta={}\".format(\n",
    "                             max_depth,\n",
    "                             eta))\n",
    "    # Update our parameters\n",
    "    params['max_depth'] = max_depth\n",
    "    params['eta'] = eta\n",
    "\n",
    "    start_time = time.time()\n",
    "    cv_results = xgb.cv(params,\n",
    "                        dtrain,\n",
    "                        num_boost_round=999,\n",
    "                        seed=42,\n",
    "                        nfold=5,\n",
    "                        metrics={'aucpr'},\n",
    "                        early_stopping_rounds=10)\n",
    "    mean_aucpr = cv_results['test-aucpr-mean'].max()\n",
    "    boost_rounds = cv_results['test-aucpr-mean'].argmax()\n",
    "    print(f\"aucpr {mean_aucpr} for {boost_rounds} rounds\")\n",
    "    if mean_aucpr > max_aucpr:\n",
    "        max_aucpr = mean_aucpr\n",
    "        best_params = (max_depth, eta)\n",
    "\n",
    "    aucpr_lst.append(mean_aucpr)\n",
    "    t = time.time() - start_time\n",
    "    print(f\"{t:.0f} seconds execution time for max depth {max_depth} eta {eta}\")\n",
    "\n",
    "# print(f\"Best params: {best_params}, AUCPR: {max_aucpr}\")\n",
    "print(f\"Best params: {best_params[0]}, {best_params[1]}, AUCPR: {max_aucpr}\")"
   ]
  },
  {
   "cell_type": "code",
   "execution_count": null,
   "metadata": {},
   "outputs": [],
   "source": []
  }
 ],
 "metadata": {
  "kernelspec": {
   "display_name": "Python 3",
   "language": "python",
   "name": "python3"
  },
  "language_info": {
   "codemirror_mode": {
    "name": "ipython",
    "version": 3
   },
   "file_extension": ".py",
   "mimetype": "text/x-python",
   "name": "python",
   "nbconvert_exporter": "python",
   "pygments_lexer": "ipython3",
   "version": "3.7.9"
  }
 },
 "nbformat": 4,
 "nbformat_minor": 4
}
